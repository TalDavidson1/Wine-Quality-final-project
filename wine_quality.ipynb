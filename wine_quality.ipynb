{
  "nbformat": 4,
  "nbformat_minor": 0,
  "metadata": {
    "kernelspec": {
      "display_name": "Python 3",
      "language": "python",
      "name": "python3"
    },
    "language_info": {
      "codemirror_mode": {
        "name": "ipython",
        "version": 3
      },
      "file_extension": ".py",
      "mimetype": "text/x-python",
      "name": "python",
      "nbconvert_exporter": "python",
      "pygments_lexer": "ipython3",
      "version": "3.8.5"
    },
    "colab": {
      "name": "wine_quality.ipynb",
      "provenance": [],
      "collapsed_sections": []
    }
  },
  "cells": [
    {
      "cell_type": "markdown",
      "metadata": {
        "id": "EGBgyWfZMsuO"
      },
      "source": [
        "# Preparing the Data"
      ]
    },
    {
      "cell_type": "code",
      "metadata": {
        "id": "HI5hDdtQc8jF"
      },
      "source": [
        "# Set the seed value for the notebook so the results are reproducible\n",
        "from numpy.random import seed\n",
        "seed(1)"
      ],
      "execution_count": null,
      "outputs": []
    },
    {
      "cell_type": "code",
      "metadata": {
        "id": "nc3WcJKbdUps"
      },
      "source": [
        "# Dependencies\n",
        "import numpy as np\n",
        "import pandas as pd\n",
        "import tensorflow\n",
        "from sklearn.model_selection import train_test_split\n",
        "from sklearn.preprocessing import StandardScaler\n",
        "import seaborn as sns\n",
        "import matplotlib.pyplot as plt\n",
        "from tensorflow.keras.models import Sequential\n",
        "from sklearn.linear_model import LogisticRegression\n",
        "from sklearn.metrics import confusion_matrix, accuracy_score"
      ],
      "execution_count": null,
      "outputs": []
    },
    {
      "cell_type": "code",
      "metadata": {
        "colab": {
          "base_uri": "https://localhost:8080/",
          "height": 203
        },
        "id": "-EbqCpdMds52",
        "outputId": "a8dfa3cf-d692-48c6-97ab-ac7b3cb48509"
      },
      "source": [
        "wine = pd.read_csv('winequality-red.csv')\n",
        "wine.head()"
      ],
      "execution_count": null,
      "outputs": [
        {
          "output_type": "execute_result",
          "data": {
            "text/html": [
              "<div>\n",
              "<style scoped>\n",
              "    .dataframe tbody tr th:only-of-type {\n",
              "        vertical-align: middle;\n",
              "    }\n",
              "\n",
              "    .dataframe tbody tr th {\n",
              "        vertical-align: top;\n",
              "    }\n",
              "\n",
              "    .dataframe thead th {\n",
              "        text-align: right;\n",
              "    }\n",
              "</style>\n",
              "<table border=\"1\" class=\"dataframe\">\n",
              "  <thead>\n",
              "    <tr style=\"text-align: right;\">\n",
              "      <th></th>\n",
              "      <th>fixed acidity</th>\n",
              "      <th>volatile acidity</th>\n",
              "      <th>citric acid</th>\n",
              "      <th>residual sugar</th>\n",
              "      <th>chlorides</th>\n",
              "      <th>free sulfur dioxide</th>\n",
              "      <th>total sulfur dioxide</th>\n",
              "      <th>density</th>\n",
              "      <th>pH</th>\n",
              "      <th>sulphates</th>\n",
              "      <th>alcohol</th>\n",
              "      <th>quality</th>\n",
              "    </tr>\n",
              "  </thead>\n",
              "  <tbody>\n",
              "    <tr>\n",
              "      <th>0</th>\n",
              "      <td>7.4</td>\n",
              "      <td>0.70</td>\n",
              "      <td>0.00</td>\n",
              "      <td>1.9</td>\n",
              "      <td>0.076</td>\n",
              "      <td>11.0</td>\n",
              "      <td>34.0</td>\n",
              "      <td>0.9978</td>\n",
              "      <td>3.51</td>\n",
              "      <td>0.56</td>\n",
              "      <td>9.4</td>\n",
              "      <td>5</td>\n",
              "    </tr>\n",
              "    <tr>\n",
              "      <th>1</th>\n",
              "      <td>7.8</td>\n",
              "      <td>0.88</td>\n",
              "      <td>0.00</td>\n",
              "      <td>2.6</td>\n",
              "      <td>0.098</td>\n",
              "      <td>25.0</td>\n",
              "      <td>67.0</td>\n",
              "      <td>0.9968</td>\n",
              "      <td>3.20</td>\n",
              "      <td>0.68</td>\n",
              "      <td>9.8</td>\n",
              "      <td>5</td>\n",
              "    </tr>\n",
              "    <tr>\n",
              "      <th>2</th>\n",
              "      <td>7.8</td>\n",
              "      <td>0.76</td>\n",
              "      <td>0.04</td>\n",
              "      <td>2.3</td>\n",
              "      <td>0.092</td>\n",
              "      <td>15.0</td>\n",
              "      <td>54.0</td>\n",
              "      <td>0.9970</td>\n",
              "      <td>3.26</td>\n",
              "      <td>0.65</td>\n",
              "      <td>9.8</td>\n",
              "      <td>5</td>\n",
              "    </tr>\n",
              "    <tr>\n",
              "      <th>3</th>\n",
              "      <td>11.2</td>\n",
              "      <td>0.28</td>\n",
              "      <td>0.56</td>\n",
              "      <td>1.9</td>\n",
              "      <td>0.075</td>\n",
              "      <td>17.0</td>\n",
              "      <td>60.0</td>\n",
              "      <td>0.9980</td>\n",
              "      <td>3.16</td>\n",
              "      <td>0.58</td>\n",
              "      <td>9.8</td>\n",
              "      <td>6</td>\n",
              "    </tr>\n",
              "    <tr>\n",
              "      <th>4</th>\n",
              "      <td>7.4</td>\n",
              "      <td>0.70</td>\n",
              "      <td>0.00</td>\n",
              "      <td>1.9</td>\n",
              "      <td>0.076</td>\n",
              "      <td>11.0</td>\n",
              "      <td>34.0</td>\n",
              "      <td>0.9978</td>\n",
              "      <td>3.51</td>\n",
              "      <td>0.56</td>\n",
              "      <td>9.4</td>\n",
              "      <td>5</td>\n",
              "    </tr>\n",
              "  </tbody>\n",
              "</table>\n",
              "</div>"
            ],
            "text/plain": [
              "   fixed acidity  volatile acidity  citric acid  ...  sulphates  alcohol  quality\n",
              "0            7.4              0.70         0.00  ...       0.56      9.4        5\n",
              "1            7.8              0.88         0.00  ...       0.68      9.8        5\n",
              "2            7.8              0.76         0.04  ...       0.65      9.8        5\n",
              "3           11.2              0.28         0.56  ...       0.58      9.8        6\n",
              "4            7.4              0.70         0.00  ...       0.56      9.4        5\n",
              "\n",
              "[5 rows x 12 columns]"
            ]
          },
          "metadata": {
            "tags": []
          },
          "execution_count": 3
        }
      ]
    },
    {
      "cell_type": "code",
      "metadata": {
        "id": "rpNd2RXNyEq0",
        "colab": {
          "base_uri": "https://localhost:8080/",
          "height": 203
        },
        "outputId": "ac20529e-b101-4fb2-9c8d-334630e9c0d5"
      },
      "source": [
        "# Creates a new column for rating, from bad-average-good\n",
        "reviews = []\n",
        "for i in wine['quality']:\n",
        "    if i >= 1 and i <= 3:\n",
        "        reviews.append('bad')\n",
        "    elif i >= 4 and i <= 7:\n",
        "        reviews.append('average')\n",
        "    elif i >= 8 and i <= 10:\n",
        "        reviews.append('good')\n",
        "wine['rating'] = reviews\n",
        "wine.head()"
      ],
      "execution_count": null,
      "outputs": [
        {
          "output_type": "execute_result",
          "data": {
            "text/html": [
              "<div>\n",
              "<style scoped>\n",
              "    .dataframe tbody tr th:only-of-type {\n",
              "        vertical-align: middle;\n",
              "    }\n",
              "\n",
              "    .dataframe tbody tr th {\n",
              "        vertical-align: top;\n",
              "    }\n",
              "\n",
              "    .dataframe thead th {\n",
              "        text-align: right;\n",
              "    }\n",
              "</style>\n",
              "<table border=\"1\" class=\"dataframe\">\n",
              "  <thead>\n",
              "    <tr style=\"text-align: right;\">\n",
              "      <th></th>\n",
              "      <th>fixed acidity</th>\n",
              "      <th>volatile acidity</th>\n",
              "      <th>citric acid</th>\n",
              "      <th>residual sugar</th>\n",
              "      <th>chlorides</th>\n",
              "      <th>free sulfur dioxide</th>\n",
              "      <th>total sulfur dioxide</th>\n",
              "      <th>density</th>\n",
              "      <th>pH</th>\n",
              "      <th>sulphates</th>\n",
              "      <th>alcohol</th>\n",
              "      <th>quality</th>\n",
              "      <th>rating</th>\n",
              "    </tr>\n",
              "  </thead>\n",
              "  <tbody>\n",
              "    <tr>\n",
              "      <th>0</th>\n",
              "      <td>7.4</td>\n",
              "      <td>0.70</td>\n",
              "      <td>0.00</td>\n",
              "      <td>1.9</td>\n",
              "      <td>0.076</td>\n",
              "      <td>11.0</td>\n",
              "      <td>34.0</td>\n",
              "      <td>0.9978</td>\n",
              "      <td>3.51</td>\n",
              "      <td>0.56</td>\n",
              "      <td>9.4</td>\n",
              "      <td>5</td>\n",
              "      <td>average</td>\n",
              "    </tr>\n",
              "    <tr>\n",
              "      <th>1</th>\n",
              "      <td>7.8</td>\n",
              "      <td>0.88</td>\n",
              "      <td>0.00</td>\n",
              "      <td>2.6</td>\n",
              "      <td>0.098</td>\n",
              "      <td>25.0</td>\n",
              "      <td>67.0</td>\n",
              "      <td>0.9968</td>\n",
              "      <td>3.20</td>\n",
              "      <td>0.68</td>\n",
              "      <td>9.8</td>\n",
              "      <td>5</td>\n",
              "      <td>average</td>\n",
              "    </tr>\n",
              "    <tr>\n",
              "      <th>2</th>\n",
              "      <td>7.8</td>\n",
              "      <td>0.76</td>\n",
              "      <td>0.04</td>\n",
              "      <td>2.3</td>\n",
              "      <td>0.092</td>\n",
              "      <td>15.0</td>\n",
              "      <td>54.0</td>\n",
              "      <td>0.9970</td>\n",
              "      <td>3.26</td>\n",
              "      <td>0.65</td>\n",
              "      <td>9.8</td>\n",
              "      <td>5</td>\n",
              "      <td>average</td>\n",
              "    </tr>\n",
              "    <tr>\n",
              "      <th>3</th>\n",
              "      <td>11.2</td>\n",
              "      <td>0.28</td>\n",
              "      <td>0.56</td>\n",
              "      <td>1.9</td>\n",
              "      <td>0.075</td>\n",
              "      <td>17.0</td>\n",
              "      <td>60.0</td>\n",
              "      <td>0.9980</td>\n",
              "      <td>3.16</td>\n",
              "      <td>0.58</td>\n",
              "      <td>9.8</td>\n",
              "      <td>6</td>\n",
              "      <td>average</td>\n",
              "    </tr>\n",
              "    <tr>\n",
              "      <th>4</th>\n",
              "      <td>7.4</td>\n",
              "      <td>0.70</td>\n",
              "      <td>0.00</td>\n",
              "      <td>1.9</td>\n",
              "      <td>0.076</td>\n",
              "      <td>11.0</td>\n",
              "      <td>34.0</td>\n",
              "      <td>0.9978</td>\n",
              "      <td>3.51</td>\n",
              "      <td>0.56</td>\n",
              "      <td>9.4</td>\n",
              "      <td>5</td>\n",
              "      <td>average</td>\n",
              "    </tr>\n",
              "  </tbody>\n",
              "</table>\n",
              "</div>"
            ],
            "text/plain": [
              "   fixed acidity  volatile acidity  citric acid  ...  alcohol  quality   rating\n",
              "0            7.4              0.70         0.00  ...      9.4        5  average\n",
              "1            7.8              0.88         0.00  ...      9.8        5  average\n",
              "2            7.8              0.76         0.04  ...      9.8        5  average\n",
              "3           11.2              0.28         0.56  ...      9.8        6  average\n",
              "4            7.4              0.70         0.00  ...      9.4        5  average\n",
              "\n",
              "[5 rows x 13 columns]"
            ]
          },
          "metadata": {
            "tags": []
          },
          "execution_count": 4
        }
      ]
    },
    {
      "cell_type": "markdown",
      "metadata": {
        "id": "V8_78USFYXV0"
      },
      "source": [
        "# Logistic Regression Model"
      ]
    },
    {
      "cell_type": "code",
      "metadata": {
        "id": "HejxXlKRfndC",
        "colab": {
          "base_uri": "https://localhost:8080/"
        },
        "outputId": "c26a6b59-1947-4fd5-fe7a-25669c53c72c"
      },
      "source": [
        "# Set quality column for y values\n",
        "X = wine.drop([\"quality\", \"rating\"], axis=1)\n",
        "y = wine[\"rating\"]\n",
        "print(X.shape, y.shape)"
      ],
      "execution_count": null,
      "outputs": [
        {
          "output_type": "stream",
          "text": [
            "(1599, 11) (1599,)\n"
          ],
          "name": "stdout"
        }
      ]
    },
    {
      "cell_type": "code",
      "metadata": {
        "id": "IM4crEXhhaZ-"
      },
      "source": [
        "X_train, X_test, y_train, y_test = train_test_split(X, y, random_state=1, test_size=0.25)"
      ],
      "execution_count": null,
      "outputs": []
    },
    {
      "cell_type": "code",
      "metadata": {
        "id": "G6k2E7Xbte1c"
      },
      "source": [
        "# Standard scaling\n",
        "X_scaler = StandardScaler().fit(X_train)\n",
        "X_train_scaled = X_scaler.transform(X_train)\n",
        "X_test_scaled = X_scaler.transform(X_test)"
      ],
      "execution_count": null,
      "outputs": []
    },
    {
      "cell_type": "code",
      "metadata": {
        "id": "RQpRdvT5xdMp",
        "colab": {
          "base_uri": "https://localhost:8080/"
        },
        "outputId": "fa1a1bcb-215e-4b08-e4ff-0edb35bc37c1"
      },
      "source": [
        "model = LogisticRegression()\n",
        "model.fit(X_train, y_train)"
      ],
      "execution_count": null,
      "outputs": [
        {
          "output_type": "stream",
          "text": [
            "/usr/local/lib/python3.7/dist-packages/sklearn/linear_model/_logistic.py:940: ConvergenceWarning: lbfgs failed to converge (status=1):\n",
            "STOP: TOTAL NO. of ITERATIONS REACHED LIMIT.\n",
            "\n",
            "Increase the number of iterations (max_iter) or scale the data as shown in:\n",
            "    https://scikit-learn.org/stable/modules/preprocessing.html\n",
            "Please also refer to the documentation for alternative solver options:\n",
            "    https://scikit-learn.org/stable/modules/linear_model.html#logistic-regression\n",
            "  extra_warning_msg=_LOGISTIC_SOLVER_CONVERGENCE_MSG)\n"
          ],
          "name": "stderr"
        },
        {
          "output_type": "execute_result",
          "data": {
            "text/plain": [
              "LogisticRegression(C=1.0, class_weight=None, dual=False, fit_intercept=True,\n",
              "                   intercept_scaling=1, l1_ratio=None, max_iter=100,\n",
              "                   multi_class='auto', n_jobs=None, penalty='l2',\n",
              "                   random_state=None, solver='lbfgs', tol=0.0001, verbose=0,\n",
              "                   warm_start=False)"
            ]
          },
          "metadata": {
            "tags": []
          },
          "execution_count": 8
        }
      ]
    },
    {
      "cell_type": "code",
      "metadata": {
        "id": "XmocOtTkzEml"
      },
      "source": [
        "model_predict = model.predict(X_test)"
      ],
      "execution_count": null,
      "outputs": []
    },
    {
      "cell_type": "code",
      "metadata": {
        "id": "oiQa6WG4yMH5",
        "colab": {
          "base_uri": "https://localhost:8080/"
        },
        "outputId": "f2dd4ebd-4bb5-4fcd-ad5f-6d3dcf88f060"
      },
      "source": [
        "model_conf_matrix = confusion_matrix(y_test, model_predict)\n",
        "model_acc_score = accuracy_score(y_test, model_predict)\n",
        "print(model_conf_matrix)\n",
        "print(\"Accuracy: \"+str(model_acc_score*100)+\"%\")"
      ],
      "execution_count": null,
      "outputs": [
        {
          "output_type": "stream",
          "text": [
            "[[396   0   0]\n",
            " [  1   0   0]\n",
            " [  3   0   0]]\n",
            "Accuracy: 99.0%\n"
          ],
          "name": "stdout"
        }
      ]
    },
    {
      "cell_type": "markdown",
      "metadata": {
        "id": "mH8VYNWvXSC_"
      },
      "source": [
        "# Deep Learning Model"
      ]
    },
    {
      "cell_type": "code",
      "metadata": {
        "id": "tRRH-3-UTKDb",
        "colab": {
          "base_uri": "https://localhost:8080/"
        },
        "outputId": "40f31ee6-07bc-48da-b286-2b744933a5db"
      },
      "source": [
        "X = wine.drop([\"quality\", \"rating\"], axis=1)\n",
        "y = wine[\"rating\"]\n",
        "print(X.shape, y.shape)"
      ],
      "execution_count": null,
      "outputs": [
        {
          "output_type": "stream",
          "text": [
            "(1599, 11) (1599,)\n"
          ],
          "name": "stdout"
        }
      ]
    },
    {
      "cell_type": "code",
      "metadata": {
        "nbgrader": {
          "grade": false,
          "grade_id": "cell-711a82d9b32c83ff",
          "locked": false,
          "schema_version": 1,
          "solution": true
        },
        "id": "OLe3TttzckPs"
      },
      "source": [
        "from sklearn.model_selection import train_test_split\n",
        "from sklearn.preprocessing import LabelEncoder, MinMaxScaler\n",
        "from tensorflow.keras.utils import to_categorical"
      ],
      "execution_count": null,
      "outputs": []
    },
    {
      "cell_type": "code",
      "metadata": {
        "nbgrader": {
          "grade": false,
          "grade_id": "cell-711a82d9b32c83ff",
          "locked": false,
          "schema_version": 1,
          "solution": true
        },
        "id": "2UIWZh2KckPt"
      },
      "source": [
        "X_train, X_test, y_train, y_test = train_test_split(X, y, random_state=1, test_size=0.25)"
      ],
      "execution_count": null,
      "outputs": []
    },
    {
      "cell_type": "code",
      "metadata": {
        "nbgrader": {
          "grade": false,
          "grade_id": "cell-711a82d9b32c83ff",
          "locked": false,
          "schema_version": 1,
          "solution": true
        },
        "id": "eFLj6YefckPt"
      },
      "source": [
        "# Using MinMaxScaler\n",
        "X_scaler = MinMaxScaler().fit(X_train)\n",
        "X_train_scaled = X_scaler.transform(X_train)\n",
        "X_test_scaled = X_scaler.transform(X_test)"
      ],
      "execution_count": null,
      "outputs": []
    },
    {
      "cell_type": "code",
      "metadata": {
        "nbgrader": {
          "grade": false,
          "grade_id": "cell-711a82d9b32c83ff",
          "locked": false,
          "schema_version": 1,
          "solution": true
        },
        "id": "OTz1m9_NckPu"
      },
      "source": [
        "# Step 1: Label-encode data set\n",
        "label_encoder = LabelEncoder()\n",
        "label_encoder.fit(y_train)\n",
        "encoded_y_train = label_encoder.transform(y_train)\n",
        "encoded_y_test = label_encoder.transform(y_test)"
      ],
      "execution_count": null,
      "outputs": []
    },
    {
      "cell_type": "code",
      "metadata": {
        "nbgrader": {
          "grade": false,
          "grade_id": "cell-711a82d9b32c83ff",
          "locked": false,
          "schema_version": 1,
          "solution": true
        },
        "id": "cxiAVKSAckPu"
      },
      "source": [
        "# Step 2: Convert encoded labels to one-hot-encoding\n",
        "y_train_categorical = to_categorical(encoded_y_train)\n",
        "y_test_categorical = to_categorical(encoded_y_test)"
      ],
      "execution_count": null,
      "outputs": []
    },
    {
      "cell_type": "code",
      "metadata": {
        "id": "eE1fpv3QckPv"
      },
      "source": [
        "from tensorflow.keras.models import Sequential\n",
        "from tensorflow.keras.layers import Dense"
      ],
      "execution_count": null,
      "outputs": []
    },
    {
      "cell_type": "code",
      "metadata": {
        "id": "5n6VVZb7ckPv"
      },
      "source": [
        "# Create model and add layers\n",
        "model = Sequential()\n",
        "model.add(Dense(units=8, activation='relu', input_dim=11))\n",
        "model.add(Dense(units=8, activation='relu'))\n",
        "model.add(Dense(units=3, activation='softmax'))"
      ],
      "execution_count": null,
      "outputs": []
    },
    {
      "cell_type": "code",
      "metadata": {
        "id": "3CMxN8dZckPv"
      },
      "source": [
        "# Compile and fit the model\n",
        "model.compile(optimizer='adam',\n",
        "              loss='categorical_crossentropy',\n",
        "              metrics=['accuracy'])"
      ],
      "execution_count": null,
      "outputs": []
    },
    {
      "cell_type": "code",
      "metadata": {
        "id": "Pd0nrFumOOtw",
        "colab": {
          "base_uri": "https://localhost:8080/"
        },
        "outputId": "a43df829-5f3b-4258-c740-28bd993acde7"
      },
      "source": [
        "model.summary()"
      ],
      "execution_count": null,
      "outputs": [
        {
          "output_type": "stream",
          "text": [
            "Model: \"sequential\"\n",
            "_________________________________________________________________\n",
            "Layer (type)                 Output Shape              Param #   \n",
            "=================================================================\n",
            "dense (Dense)                (None, 8)                 96        \n",
            "_________________________________________________________________\n",
            "dense_1 (Dense)              (None, 8)                 72        \n",
            "_________________________________________________________________\n",
            "dense_2 (Dense)              (None, 3)                 27        \n",
            "=================================================================\n",
            "Total params: 195\n",
            "Trainable params: 195\n",
            "Non-trainable params: 0\n",
            "_________________________________________________________________\n"
          ],
          "name": "stdout"
        }
      ]
    },
    {
      "cell_type": "code",
      "metadata": {
        "id": "6fQRpDMLckPv",
        "colab": {
          "base_uri": "https://localhost:8080/"
        },
        "outputId": "1423b67f-fccc-40bb-8d0a-d13939005e36"
      },
      "source": [
        "model.fit(\n",
        "    X_train_scaled,\n",
        "    y_train_categorical,\n",
        "    epochs=100,\n",
        "    shuffle=True,\n",
        "    verbose=2\n",
        ")"
      ],
      "execution_count": null,
      "outputs": [
        {
          "output_type": "stream",
          "text": [
            "Epoch 1/100\n",
            "38/38 - 1s - loss: 1.1628 - accuracy: 0.2619\n",
            "Epoch 2/100\n",
            "38/38 - 0s - loss: 0.7007 - accuracy: 0.9766\n",
            "Epoch 3/100\n",
            "38/38 - 0s - loss: 0.3645 - accuracy: 0.9800\n",
            "Epoch 4/100\n",
            "38/38 - 0s - loss: 0.2137 - accuracy: 0.9800\n",
            "Epoch 5/100\n",
            "38/38 - 0s - loss: 0.1597 - accuracy: 0.9800\n",
            "Epoch 6/100\n",
            "38/38 - 0s - loss: 0.1381 - accuracy: 0.9800\n",
            "Epoch 7/100\n",
            "38/38 - 0s - loss: 0.1287 - accuracy: 0.9800\n",
            "Epoch 8/100\n",
            "38/38 - 0s - loss: 0.1244 - accuracy: 0.9800\n",
            "Epoch 9/100\n",
            "38/38 - 0s - loss: 0.1223 - accuracy: 0.9800\n",
            "Epoch 10/100\n",
            "38/38 - 0s - loss: 0.1212 - accuracy: 0.9800\n",
            "Epoch 11/100\n",
            "38/38 - 0s - loss: 0.1207 - accuracy: 0.9800\n",
            "Epoch 12/100\n",
            "38/38 - 0s - loss: 0.1203 - accuracy: 0.9800\n",
            "Epoch 13/100\n",
            "38/38 - 0s - loss: 0.1201 - accuracy: 0.9800\n",
            "Epoch 14/100\n",
            "38/38 - 0s - loss: 0.1198 - accuracy: 0.9800\n",
            "Epoch 15/100\n",
            "38/38 - 0s - loss: 0.1197 - accuracy: 0.9800\n",
            "Epoch 16/100\n",
            "38/38 - 0s - loss: 0.1194 - accuracy: 0.9800\n",
            "Epoch 17/100\n",
            "38/38 - 0s - loss: 0.1191 - accuracy: 0.9800\n",
            "Epoch 18/100\n",
            "38/38 - 0s - loss: 0.1191 - accuracy: 0.9800\n",
            "Epoch 19/100\n",
            "38/38 - 0s - loss: 0.1185 - accuracy: 0.9800\n",
            "Epoch 20/100\n",
            "38/38 - 0s - loss: 0.1184 - accuracy: 0.9800\n",
            "Epoch 21/100\n",
            "38/38 - 0s - loss: 0.1180 - accuracy: 0.9800\n",
            "Epoch 22/100\n",
            "38/38 - 0s - loss: 0.1179 - accuracy: 0.9800\n",
            "Epoch 23/100\n",
            "38/38 - 0s - loss: 0.1175 - accuracy: 0.9800\n",
            "Epoch 24/100\n",
            "38/38 - 0s - loss: 0.1172 - accuracy: 0.9800\n",
            "Epoch 25/100\n",
            "38/38 - 0s - loss: 0.1169 - accuracy: 0.9800\n",
            "Epoch 26/100\n",
            "38/38 - 0s - loss: 0.1166 - accuracy: 0.9800\n",
            "Epoch 27/100\n",
            "38/38 - 0s - loss: 0.1165 - accuracy: 0.9800\n",
            "Epoch 28/100\n",
            "38/38 - 0s - loss: 0.1160 - accuracy: 0.9800\n",
            "Epoch 29/100\n",
            "38/38 - 0s - loss: 0.1157 - accuracy: 0.9800\n",
            "Epoch 30/100\n",
            "38/38 - 0s - loss: 0.1155 - accuracy: 0.9800\n",
            "Epoch 31/100\n",
            "38/38 - 0s - loss: 0.1152 - accuracy: 0.9800\n",
            "Epoch 32/100\n",
            "38/38 - 0s - loss: 0.1153 - accuracy: 0.9800\n",
            "Epoch 33/100\n",
            "38/38 - 0s - loss: 0.1148 - accuracy: 0.9800\n",
            "Epoch 34/100\n",
            "38/38 - 0s - loss: 0.1144 - accuracy: 0.9800\n",
            "Epoch 35/100\n",
            "38/38 - 0s - loss: 0.1144 - accuracy: 0.9800\n",
            "Epoch 36/100\n",
            "38/38 - 0s - loss: 0.1140 - accuracy: 0.9800\n",
            "Epoch 37/100\n",
            "38/38 - 0s - loss: 0.1137 - accuracy: 0.9800\n",
            "Epoch 38/100\n",
            "38/38 - 0s - loss: 0.1134 - accuracy: 0.9800\n",
            "Epoch 39/100\n",
            "38/38 - 0s - loss: 0.1132 - accuracy: 0.9800\n",
            "Epoch 40/100\n",
            "38/38 - 0s - loss: 0.1131 - accuracy: 0.9800\n",
            "Epoch 41/100\n",
            "38/38 - 0s - loss: 0.1128 - accuracy: 0.9800\n",
            "Epoch 42/100\n",
            "38/38 - 0s - loss: 0.1123 - accuracy: 0.9800\n",
            "Epoch 43/100\n",
            "38/38 - 0s - loss: 0.1121 - accuracy: 0.9800\n",
            "Epoch 44/100\n",
            "38/38 - 0s - loss: 0.1121 - accuracy: 0.9800\n",
            "Epoch 45/100\n",
            "38/38 - 0s - loss: 0.1115 - accuracy: 0.9800\n",
            "Epoch 46/100\n",
            "38/38 - 0s - loss: 0.1114 - accuracy: 0.9800\n",
            "Epoch 47/100\n",
            "38/38 - 0s - loss: 0.1111 - accuracy: 0.9800\n",
            "Epoch 48/100\n",
            "38/38 - 0s - loss: 0.1109 - accuracy: 0.9800\n",
            "Epoch 49/100\n",
            "38/38 - 0s - loss: 0.1110 - accuracy: 0.9800\n",
            "Epoch 50/100\n",
            "38/38 - 0s - loss: 0.1106 - accuracy: 0.9800\n",
            "Epoch 51/100\n",
            "38/38 - 0s - loss: 0.1103 - accuracy: 0.9800\n",
            "Epoch 52/100\n",
            "38/38 - 0s - loss: 0.1101 - accuracy: 0.9800\n",
            "Epoch 53/100\n",
            "38/38 - 0s - loss: 0.1097 - accuracy: 0.9800\n",
            "Epoch 54/100\n",
            "38/38 - 0s - loss: 0.1097 - accuracy: 0.9800\n",
            "Epoch 55/100\n",
            "38/38 - 0s - loss: 0.1094 - accuracy: 0.9800\n",
            "Epoch 56/100\n",
            "38/38 - 0s - loss: 0.1094 - accuracy: 0.9800\n",
            "Epoch 57/100\n",
            "38/38 - 0s - loss: 0.1089 - accuracy: 0.9800\n",
            "Epoch 58/100\n",
            "38/38 - 0s - loss: 0.1087 - accuracy: 0.9800\n",
            "Epoch 59/100\n",
            "38/38 - 0s - loss: 0.1086 - accuracy: 0.9800\n",
            "Epoch 60/100\n",
            "38/38 - 0s - loss: 0.1085 - accuracy: 0.9800\n",
            "Epoch 61/100\n",
            "38/38 - 0s - loss: 0.1081 - accuracy: 0.9800\n",
            "Epoch 62/100\n",
            "38/38 - 0s - loss: 0.1080 - accuracy: 0.9800\n",
            "Epoch 63/100\n",
            "38/38 - 0s - loss: 0.1080 - accuracy: 0.9800\n",
            "Epoch 64/100\n",
            "38/38 - 0s - loss: 0.1077 - accuracy: 0.9800\n",
            "Epoch 65/100\n",
            "38/38 - 0s - loss: 0.1073 - accuracy: 0.9800\n",
            "Epoch 66/100\n",
            "38/38 - 0s - loss: 0.1072 - accuracy: 0.9800\n",
            "Epoch 67/100\n",
            "38/38 - 0s - loss: 0.1070 - accuracy: 0.9800\n",
            "Epoch 68/100\n",
            "38/38 - 0s - loss: 0.1069 - accuracy: 0.9800\n",
            "Epoch 69/100\n",
            "38/38 - 0s - loss: 0.1069 - accuracy: 0.9800\n",
            "Epoch 70/100\n",
            "38/38 - 0s - loss: 0.1065 - accuracy: 0.9800\n",
            "Epoch 71/100\n",
            "38/38 - 0s - loss: 0.1065 - accuracy: 0.9800\n",
            "Epoch 72/100\n",
            "38/38 - 0s - loss: 0.1060 - accuracy: 0.9800\n",
            "Epoch 73/100\n",
            "38/38 - 0s - loss: 0.1065 - accuracy: 0.9800\n",
            "Epoch 74/100\n",
            "38/38 - 0s - loss: 0.1068 - accuracy: 0.9800\n",
            "Epoch 75/100\n",
            "38/38 - 0s - loss: 0.1058 - accuracy: 0.9800\n",
            "Epoch 76/100\n",
            "38/38 - 0s - loss: 0.1056 - accuracy: 0.9800\n",
            "Epoch 77/100\n",
            "38/38 - 0s - loss: 0.1052 - accuracy: 0.9800\n",
            "Epoch 78/100\n",
            "38/38 - 0s - loss: 0.1053 - accuracy: 0.9800\n",
            "Epoch 79/100\n",
            "38/38 - 0s - loss: 0.1050 - accuracy: 0.9800\n",
            "Epoch 80/100\n",
            "38/38 - 0s - loss: 0.1050 - accuracy: 0.9800\n",
            "Epoch 81/100\n",
            "38/38 - 0s - loss: 0.1046 - accuracy: 0.9800\n",
            "Epoch 82/100\n",
            "38/38 - 0s - loss: 0.1046 - accuracy: 0.9800\n",
            "Epoch 83/100\n",
            "38/38 - 0s - loss: 0.1045 - accuracy: 0.9800\n",
            "Epoch 84/100\n",
            "38/38 - 0s - loss: 0.1044 - accuracy: 0.9800\n",
            "Epoch 85/100\n",
            "38/38 - 0s - loss: 0.1041 - accuracy: 0.9800\n",
            "Epoch 86/100\n",
            "38/38 - 0s - loss: 0.1042 - accuracy: 0.9800\n",
            "Epoch 87/100\n",
            "38/38 - 0s - loss: 0.1035 - accuracy: 0.9800\n",
            "Epoch 88/100\n",
            "38/38 - 0s - loss: 0.1034 - accuracy: 0.9800\n",
            "Epoch 89/100\n",
            "38/38 - 0s - loss: 0.1036 - accuracy: 0.9800\n",
            "Epoch 90/100\n",
            "38/38 - 0s - loss: 0.1025 - accuracy: 0.9800\n",
            "Epoch 91/100\n",
            "38/38 - 0s - loss: 0.1023 - accuracy: 0.9800\n",
            "Epoch 92/100\n",
            "38/38 - 0s - loss: 0.1022 - accuracy: 0.9800\n",
            "Epoch 93/100\n",
            "38/38 - 0s - loss: 0.1020 - accuracy: 0.9800\n",
            "Epoch 94/100\n",
            "38/38 - 0s - loss: 0.1019 - accuracy: 0.9800\n",
            "Epoch 95/100\n",
            "38/38 - 0s - loss: 0.1011 - accuracy: 0.9800\n",
            "Epoch 96/100\n",
            "38/38 - 0s - loss: 0.1011 - accuracy: 0.9800\n",
            "Epoch 97/100\n",
            "38/38 - 0s - loss: 0.1007 - accuracy: 0.9800\n",
            "Epoch 98/100\n",
            "38/38 - 0s - loss: 0.1002 - accuracy: 0.9800\n",
            "Epoch 99/100\n",
            "38/38 - 0s - loss: 0.1003 - accuracy: 0.9800\n",
            "Epoch 100/100\n",
            "38/38 - 0s - loss: 0.0998 - accuracy: 0.9800\n"
          ],
          "name": "stdout"
        },
        {
          "output_type": "execute_result",
          "data": {
            "text/plain": [
              "<keras.callbacks.History at 0x7f43f357e190>"
            ]
          },
          "metadata": {
            "tags": []
          },
          "execution_count": 21
        }
      ]
    },
    {
      "cell_type": "code",
      "metadata": {
        "id": "_CHojFoIckPw",
        "colab": {
          "base_uri": "https://localhost:8080/"
        },
        "outputId": "22646939-0689-4953-bc37-cc985fb41dd0"
      },
      "source": [
        "# Quantify model\n",
        "model_loss, model_accuracy = model.evaluate(\n",
        "    X_test_scaled, y_test_categorical, verbose=2)\n",
        "print(\n",
        "    f\"Normal Neural Network - Loss: {model_loss}, Accuracy: {model_accuracy*100}%\")"
      ],
      "execution_count": null,
      "outputs": [
        {
          "output_type": "stream",
          "text": [
            "13/13 - 0s - loss: 0.0596 - accuracy: 0.9900\n",
            "Normal Neural Network - Loss: 0.059639204293489456, Accuracy: 99.00000095367432%\n"
          ],
          "name": "stdout"
        }
      ]
    },
    {
      "cell_type": "markdown",
      "metadata": {
        "id": "urkcMz67Is6X"
      },
      "source": [
        "# Models for exact quality score\n",
        "A tree model and a deep learning model that attempt to determine the numerical score from 3-8 for the wines in the data set"
      ]
    },
    {
      "cell_type": "markdown",
      "metadata": {
        "id": "BKlHUQdWCnsF"
      },
      "source": [
        "## Trees Model for exact quality score"
      ]
    },
    {
      "cell_type": "code",
      "metadata": {
        "id": "9CCZcxUPCsUk"
      },
      "source": [
        "from sklearn import tree\n",
        "target = wine[\"quality\"]"
      ],
      "execution_count": null,
      "outputs": []
    },
    {
      "cell_type": "code",
      "metadata": {
        "colab": {
          "base_uri": "https://localhost:8080/",
          "height": 203
        },
        "id": "ebes5nQbE1sD",
        "outputId": "f5ba6a54-522c-4a83-88a2-11bd98668292"
      },
      "source": [
        "data = wine.drop([\"quality\", \"rating\"], axis=1)\n",
        "feature_names = data.columns\n",
        "data.head()"
      ],
      "execution_count": null,
      "outputs": [
        {
          "output_type": "execute_result",
          "data": {
            "text/html": [
              "<div>\n",
              "<style scoped>\n",
              "    .dataframe tbody tr th:only-of-type {\n",
              "        vertical-align: middle;\n",
              "    }\n",
              "\n",
              "    .dataframe tbody tr th {\n",
              "        vertical-align: top;\n",
              "    }\n",
              "\n",
              "    .dataframe thead th {\n",
              "        text-align: right;\n",
              "    }\n",
              "</style>\n",
              "<table border=\"1\" class=\"dataframe\">\n",
              "  <thead>\n",
              "    <tr style=\"text-align: right;\">\n",
              "      <th></th>\n",
              "      <th>fixed acidity</th>\n",
              "      <th>volatile acidity</th>\n",
              "      <th>citric acid</th>\n",
              "      <th>residual sugar</th>\n",
              "      <th>chlorides</th>\n",
              "      <th>free sulfur dioxide</th>\n",
              "      <th>total sulfur dioxide</th>\n",
              "      <th>density</th>\n",
              "      <th>pH</th>\n",
              "      <th>sulphates</th>\n",
              "      <th>alcohol</th>\n",
              "    </tr>\n",
              "  </thead>\n",
              "  <tbody>\n",
              "    <tr>\n",
              "      <th>0</th>\n",
              "      <td>7.4</td>\n",
              "      <td>0.70</td>\n",
              "      <td>0.00</td>\n",
              "      <td>1.9</td>\n",
              "      <td>0.076</td>\n",
              "      <td>11.0</td>\n",
              "      <td>34.0</td>\n",
              "      <td>0.9978</td>\n",
              "      <td>3.51</td>\n",
              "      <td>0.56</td>\n",
              "      <td>9.4</td>\n",
              "    </tr>\n",
              "    <tr>\n",
              "      <th>1</th>\n",
              "      <td>7.8</td>\n",
              "      <td>0.88</td>\n",
              "      <td>0.00</td>\n",
              "      <td>2.6</td>\n",
              "      <td>0.098</td>\n",
              "      <td>25.0</td>\n",
              "      <td>67.0</td>\n",
              "      <td>0.9968</td>\n",
              "      <td>3.20</td>\n",
              "      <td>0.68</td>\n",
              "      <td>9.8</td>\n",
              "    </tr>\n",
              "    <tr>\n",
              "      <th>2</th>\n",
              "      <td>7.8</td>\n",
              "      <td>0.76</td>\n",
              "      <td>0.04</td>\n",
              "      <td>2.3</td>\n",
              "      <td>0.092</td>\n",
              "      <td>15.0</td>\n",
              "      <td>54.0</td>\n",
              "      <td>0.9970</td>\n",
              "      <td>3.26</td>\n",
              "      <td>0.65</td>\n",
              "      <td>9.8</td>\n",
              "    </tr>\n",
              "    <tr>\n",
              "      <th>3</th>\n",
              "      <td>11.2</td>\n",
              "      <td>0.28</td>\n",
              "      <td>0.56</td>\n",
              "      <td>1.9</td>\n",
              "      <td>0.075</td>\n",
              "      <td>17.0</td>\n",
              "      <td>60.0</td>\n",
              "      <td>0.9980</td>\n",
              "      <td>3.16</td>\n",
              "      <td>0.58</td>\n",
              "      <td>9.8</td>\n",
              "    </tr>\n",
              "    <tr>\n",
              "      <th>4</th>\n",
              "      <td>7.4</td>\n",
              "      <td>0.70</td>\n",
              "      <td>0.00</td>\n",
              "      <td>1.9</td>\n",
              "      <td>0.076</td>\n",
              "      <td>11.0</td>\n",
              "      <td>34.0</td>\n",
              "      <td>0.9978</td>\n",
              "      <td>3.51</td>\n",
              "      <td>0.56</td>\n",
              "      <td>9.4</td>\n",
              "    </tr>\n",
              "  </tbody>\n",
              "</table>\n",
              "</div>"
            ],
            "text/plain": [
              "   fixed acidity  volatile acidity  citric acid  ...    pH  sulphates  alcohol\n",
              "0            7.4              0.70         0.00  ...  3.51       0.56      9.4\n",
              "1            7.8              0.88         0.00  ...  3.20       0.68      9.8\n",
              "2            7.8              0.76         0.04  ...  3.26       0.65      9.8\n",
              "3           11.2              0.28         0.56  ...  3.16       0.58      9.8\n",
              "4            7.4              0.70         0.00  ...  3.51       0.56      9.4\n",
              "\n",
              "[5 rows x 11 columns]"
            ]
          },
          "metadata": {
            "tags": []
          },
          "execution_count": 24
        }
      ]
    },
    {
      "cell_type": "code",
      "metadata": {
        "id": "jBRlIeRQFRTm"
      },
      "source": [
        "X_train, X_test, y_train, y_test = train_test_split(data, target, random_state=42)"
      ],
      "execution_count": null,
      "outputs": []
    },
    {
      "cell_type": "code",
      "metadata": {
        "colab": {
          "base_uri": "https://localhost:8080/"
        },
        "id": "fHXDHQLjFUSN",
        "outputId": "1d4ceaa8-fa6d-4e23-8fab-dec0f10462a1"
      },
      "source": [
        "clf = tree.DecisionTreeClassifier()\n",
        "clf = clf.fit(X_train, y_train)\n",
        "clf.score(X_test, y_test)"
      ],
      "execution_count": null,
      "outputs": [
        {
          "output_type": "execute_result",
          "data": {
            "text/plain": [
              "0.57"
            ]
          },
          "metadata": {
            "tags": []
          },
          "execution_count": 26
        }
      ]
    },
    {
      "cell_type": "code",
      "metadata": {
        "colab": {
          "base_uri": "https://localhost:8080/"
        },
        "id": "uMfTlXSDGViX",
        "outputId": "e14075bf-1320-4454-f42c-642522acf9a3"
      },
      "source": [
        "from sklearn.ensemble import RandomForestClassifier\n",
        "rf = RandomForestClassifier(n_estimators=200)\n",
        "rf = rf.fit(X_train, y_train)\n",
        "print(f\"Accuracy: {rf.score(X_test, y_test)*100}%\")"
      ],
      "execution_count": null,
      "outputs": [
        {
          "output_type": "stream",
          "text": [
            "Accuracy: 67.5%\n"
          ],
          "name": "stdout"
        }
      ]
    },
    {
      "cell_type": "code",
      "metadata": {
        "colab": {
          "base_uri": "https://localhost:8080/"
        },
        "id": "1FUKl-ugGiQM",
        "outputId": "48d97be8-d62a-4aee-d871-674924fa32fb"
      },
      "source": [
        "# Determine which variables are least important\n",
        "sorted(zip(rf.feature_importances_, feature_names), reverse=True)"
      ],
      "execution_count": null,
      "outputs": [
        {
          "output_type": "execute_result",
          "data": {
            "text/plain": [
              "[(0.14540053067700837, 'alcohol'),\n",
              " (0.1157371938255992, 'sulphates'),\n",
              " (0.10529261941606942, 'total sulfur dioxide'),\n",
              " (0.10260343362817143, 'volatile acidity'),\n",
              " (0.09139598008375867, 'density'),\n",
              " (0.08362098997880432, 'chlorides'),\n",
              " (0.07358834547986286, 'pH'),\n",
              " (0.07219355776211514, 'fixed acidity'),\n",
              " (0.0716697491968824, 'citric acid'),\n",
              " (0.07133355280238213, 'residual sugar'),\n",
              " (0.06716404714934614, 'free sulfur dioxide')]"
            ]
          },
          "metadata": {
            "tags": []
          },
          "execution_count": 28
        }
      ]
    },
    {
      "cell_type": "markdown",
      "metadata": {
        "id": "R7BBl8Ub8HBt"
      },
      "source": [
        "## Deep Learning Model for exact quality score"
      ]
    },
    {
      "cell_type": "code",
      "metadata": {
        "id": "RGCTlrjj8YUl",
        "colab": {
          "base_uri": "https://localhost:8080/"
        },
        "outputId": "fe20671b-018f-4741-9776-9f3857e5e6c4"
      },
      "source": [
        "# Drop the quality columns, and the free sulfur dioxide as it is the least important\n",
        "X = wine.drop([\"quality\", \"rating\", \"free sulfur dioxide\"], axis=1)\n",
        "y = wine[\"quality\"]\n",
        "print(X.shape, y.shape)"
      ],
      "execution_count": null,
      "outputs": [
        {
          "output_type": "stream",
          "text": [
            "(1599, 10) (1599,)\n"
          ],
          "name": "stdout"
        }
      ]
    },
    {
      "cell_type": "code",
      "metadata": {
        "id": "ei49vJJC8YlS"
      },
      "source": [
        "X_train, X_test, y_train, y_test = train_test_split(X, y, random_state=1, test_size=0.15)"
      ],
      "execution_count": null,
      "outputs": []
    },
    {
      "cell_type": "code",
      "metadata": {
        "id": "I2VtRA0Z8Yy0"
      },
      "source": [
        "# Using MinMaxScaler\n",
        "X_scaler = MinMaxScaler().fit(X_train)\n",
        "X_train_scaled = X_scaler.transform(X_train)\n",
        "X_test_scaled = X_scaler.transform(X_test)"
      ],
      "execution_count": null,
      "outputs": []
    },
    {
      "cell_type": "code",
      "metadata": {
        "id": "FQgLJNjI8Y9O"
      },
      "source": [
        "# Step 1: Label-encode data set\n",
        "label_encoder = LabelEncoder()\n",
        "label_encoder.fit(y_train)\n",
        "encoded_y_train = label_encoder.transform(y_train)\n",
        "encoded_y_test = label_encoder.transform(y_test)"
      ],
      "execution_count": null,
      "outputs": []
    },
    {
      "cell_type": "code",
      "metadata": {
        "id": "ud6FSaoO8ZGd"
      },
      "source": [
        "# Step 2: Convert encoded labels to one-hot-encoding\n",
        "y_train_categorical = to_categorical(encoded_y_train)\n",
        "y_test_categorical = to_categorical(encoded_y_test)"
      ],
      "execution_count": null,
      "outputs": []
    },
    {
      "cell_type": "code",
      "metadata": {
        "id": "0BN2EdeT727c"
      },
      "source": [
        "# Create model and add layers\n",
        "model = Sequential()\n",
        "model.add(Dense(units=300, activation='relu', input_dim=10))\n",
        "model.add(Dense(units=200, activation='relu'))\n",
        "model.add(Dense(units=100, activation='relu'))\n",
        "model.add(Dense(units=64, activation='relu'))\n",
        "model.add(Dense(units=32, activation='relu'))\n",
        "model.add(Dense(units=16, activation='relu'))\n",
        "model.add(Dense(units=8, activation='relu'))\n",
        "model.add(Dense(units=8, activation='relu'))\n",
        "model.add(Dense(units=6, activation='softmax'))"
      ],
      "execution_count": null,
      "outputs": []
    },
    {
      "cell_type": "code",
      "metadata": {
        "id": "JUoZQAKu74b9"
      },
      "source": [
        "# Compile and fit the model\n",
        "model.compile(optimizer='adam',\n",
        "              loss='categorical_crossentropy',\n",
        "              metrics=['accuracy'])"
      ],
      "execution_count": null,
      "outputs": []
    },
    {
      "cell_type": "code",
      "metadata": {
        "id": "sp5m_okS750Y",
        "colab": {
          "base_uri": "https://localhost:8080/"
        },
        "outputId": "4a123c3e-981a-4904-fb40-4c994bfa090d"
      },
      "source": [
        "model.summary()"
      ],
      "execution_count": null,
      "outputs": [
        {
          "output_type": "stream",
          "text": [
            "Model: \"sequential_1\"\n",
            "_________________________________________________________________\n",
            "Layer (type)                 Output Shape              Param #   \n",
            "=================================================================\n",
            "dense_3 (Dense)              (None, 300)               3300      \n",
            "_________________________________________________________________\n",
            "dense_4 (Dense)              (None, 200)               60200     \n",
            "_________________________________________________________________\n",
            "dense_5 (Dense)              (None, 100)               20100     \n",
            "_________________________________________________________________\n",
            "dense_6 (Dense)              (None, 64)                6464      \n",
            "_________________________________________________________________\n",
            "dense_7 (Dense)              (None, 32)                2080      \n",
            "_________________________________________________________________\n",
            "dense_8 (Dense)              (None, 16)                528       \n",
            "_________________________________________________________________\n",
            "dense_9 (Dense)              (None, 8)                 136       \n",
            "_________________________________________________________________\n",
            "dense_10 (Dense)             (None, 8)                 72        \n",
            "_________________________________________________________________\n",
            "dense_11 (Dense)             (None, 6)                 54        \n",
            "=================================================================\n",
            "Total params: 92,934\n",
            "Trainable params: 92,934\n",
            "Non-trainable params: 0\n",
            "_________________________________________________________________\n"
          ],
          "name": "stdout"
        }
      ]
    },
    {
      "cell_type": "code",
      "metadata": {
        "id": "mo9gjf0d76HJ",
        "colab": {
          "base_uri": "https://localhost:8080/"
        },
        "outputId": "6ff11b8e-559f-4187-99b6-ae2b89314c54"
      },
      "source": [
        "model.fit(\n",
        "    X_train_scaled,\n",
        "    y_train_categorical,\n",
        "    epochs=200,\n",
        "    shuffle=True,\n",
        "    verbose=2\n",
        ")"
      ],
      "execution_count": null,
      "outputs": [
        {
          "output_type": "stream",
          "text": [
            "Epoch 1/200\n",
            "43/43 - 1s - loss: 1.5668 - accuracy: 0.4150\n",
            "Epoch 2/200\n",
            "43/43 - 0s - loss: 1.3516 - accuracy: 0.4444\n",
            "Epoch 3/200\n",
            "43/43 - 0s - loss: 1.2771 - accuracy: 0.4702\n",
            "Epoch 4/200\n",
            "43/43 - 0s - loss: 1.2099 - accuracy: 0.5202\n",
            "Epoch 5/200\n",
            "43/43 - 0s - loss: 1.1041 - accuracy: 0.5894\n",
            "Epoch 6/200\n",
            "43/43 - 0s - loss: 1.0874 - accuracy: 0.5659\n",
            "Epoch 7/200\n",
            "43/43 - 0s - loss: 1.0415 - accuracy: 0.5901\n",
            "Epoch 8/200\n",
            "43/43 - 0s - loss: 1.0357 - accuracy: 0.5968\n",
            "Epoch 9/200\n",
            "43/43 - 0s - loss: 1.0229 - accuracy: 0.5946\n",
            "Epoch 10/200\n",
            "43/43 - 0s - loss: 0.9998 - accuracy: 0.5901\n",
            "Epoch 11/200\n",
            "43/43 - 0s - loss: 0.9946 - accuracy: 0.5968\n",
            "Epoch 12/200\n",
            "43/43 - 0s - loss: 0.9787 - accuracy: 0.6071\n",
            "Epoch 13/200\n",
            "43/43 - 0s - loss: 0.9792 - accuracy: 0.5975\n",
            "Epoch 14/200\n",
            "43/43 - 0s - loss: 0.9528 - accuracy: 0.6130\n",
            "Epoch 15/200\n",
            "43/43 - 0s - loss: 0.9520 - accuracy: 0.6078\n",
            "Epoch 16/200\n",
            "43/43 - 0s - loss: 0.9458 - accuracy: 0.6093\n",
            "Epoch 17/200\n",
            "43/43 - 0s - loss: 0.9556 - accuracy: 0.5975\n",
            "Epoch 18/200\n",
            "43/43 - 0s - loss: 0.9269 - accuracy: 0.6174\n",
            "Epoch 19/200\n",
            "43/43 - 0s - loss: 0.9236 - accuracy: 0.6159\n",
            "Epoch 20/200\n",
            "43/43 - 0s - loss: 0.9243 - accuracy: 0.6196\n",
            "Epoch 21/200\n",
            "43/43 - 0s - loss: 0.9157 - accuracy: 0.6166\n",
            "Epoch 22/200\n",
            "43/43 - 0s - loss: 0.9236 - accuracy: 0.6071\n",
            "Epoch 23/200\n",
            "43/43 - 0s - loss: 0.9113 - accuracy: 0.6093\n",
            "Epoch 24/200\n",
            "43/43 - 0s - loss: 0.9041 - accuracy: 0.6218\n",
            "Epoch 25/200\n",
            "43/43 - 0s - loss: 0.8966 - accuracy: 0.6137\n",
            "Epoch 26/200\n",
            "43/43 - 0s - loss: 0.8909 - accuracy: 0.6299\n",
            "Epoch 27/200\n",
            "43/43 - 0s - loss: 0.8952 - accuracy: 0.6262\n",
            "Epoch 28/200\n",
            "43/43 - 0s - loss: 0.8816 - accuracy: 0.6299\n",
            "Epoch 29/200\n",
            "43/43 - 0s - loss: 0.8869 - accuracy: 0.6210\n",
            "Epoch 30/200\n",
            "43/43 - 0s - loss: 0.8722 - accuracy: 0.6343\n",
            "Epoch 31/200\n",
            "43/43 - 0s - loss: 0.8589 - accuracy: 0.6350\n",
            "Epoch 32/200\n",
            "43/43 - 0s - loss: 0.8863 - accuracy: 0.6372\n",
            "Epoch 33/200\n",
            "43/43 - 0s - loss: 0.8593 - accuracy: 0.6284\n",
            "Epoch 34/200\n",
            "43/43 - 0s - loss: 0.8514 - accuracy: 0.6512\n",
            "Epoch 35/200\n",
            "43/43 - 0s - loss: 0.8516 - accuracy: 0.6475\n",
            "Epoch 36/200\n",
            "43/43 - 0s - loss: 0.8549 - accuracy: 0.6534\n",
            "Epoch 37/200\n",
            "43/43 - 0s - loss: 0.8255 - accuracy: 0.6497\n",
            "Epoch 38/200\n",
            "43/43 - 0s - loss: 0.8284 - accuracy: 0.6542\n",
            "Epoch 39/200\n",
            "43/43 - 0s - loss: 0.8279 - accuracy: 0.6475\n",
            "Epoch 40/200\n",
            "43/43 - 0s - loss: 0.8058 - accuracy: 0.6652\n",
            "Epoch 41/200\n",
            "43/43 - 0s - loss: 0.8141 - accuracy: 0.6593\n",
            "Epoch 42/200\n",
            "43/43 - 0s - loss: 0.8320 - accuracy: 0.6593\n",
            "Epoch 43/200\n",
            "43/43 - 0s - loss: 0.8080 - accuracy: 0.6586\n",
            "Epoch 44/200\n",
            "43/43 - 0s - loss: 0.7928 - accuracy: 0.6652\n",
            "Epoch 45/200\n",
            "43/43 - 0s - loss: 0.8093 - accuracy: 0.6689\n",
            "Epoch 46/200\n",
            "43/43 - 0s - loss: 0.7925 - accuracy: 0.6637\n",
            "Epoch 47/200\n",
            "43/43 - 0s - loss: 0.7826 - accuracy: 0.6726\n",
            "Epoch 48/200\n",
            "43/43 - 0s - loss: 0.7768 - accuracy: 0.6718\n",
            "Epoch 49/200\n",
            "43/43 - 0s - loss: 0.7678 - accuracy: 0.6821\n",
            "Epoch 50/200\n",
            "43/43 - 0s - loss: 0.7778 - accuracy: 0.6909\n",
            "Epoch 51/200\n",
            "43/43 - 0s - loss: 0.7615 - accuracy: 0.6939\n",
            "Epoch 52/200\n",
            "43/43 - 0s - loss: 0.7823 - accuracy: 0.6637\n",
            "Epoch 53/200\n",
            "43/43 - 0s - loss: 0.7543 - accuracy: 0.6917\n",
            "Epoch 54/200\n",
            "43/43 - 0s - loss: 0.7623 - accuracy: 0.6821\n",
            "Epoch 55/200\n",
            "43/43 - 0s - loss: 0.7470 - accuracy: 0.6858\n",
            "Epoch 56/200\n",
            "43/43 - 0s - loss: 0.7303 - accuracy: 0.6924\n",
            "Epoch 57/200\n",
            "43/43 - 0s - loss: 0.7309 - accuracy: 0.6909\n",
            "Epoch 58/200\n",
            "43/43 - 0s - loss: 0.7093 - accuracy: 0.6968\n",
            "Epoch 59/200\n",
            "43/43 - 0s - loss: 0.7223 - accuracy: 0.6873\n",
            "Epoch 60/200\n",
            "43/43 - 0s - loss: 0.6951 - accuracy: 0.7057\n",
            "Epoch 61/200\n",
            "43/43 - 0s - loss: 0.7276 - accuracy: 0.6976\n",
            "Epoch 62/200\n",
            "43/43 - 0s - loss: 0.6892 - accuracy: 0.7079\n",
            "Epoch 63/200\n",
            "43/43 - 0s - loss: 0.6813 - accuracy: 0.7152\n",
            "Epoch 64/200\n",
            "43/43 - 0s - loss: 0.6929 - accuracy: 0.7152\n",
            "Epoch 65/200\n",
            "43/43 - 0s - loss: 0.6766 - accuracy: 0.7189\n",
            "Epoch 66/200\n",
            "43/43 - 0s - loss: 0.6984 - accuracy: 0.6983\n",
            "Epoch 67/200\n",
            "43/43 - 0s - loss: 0.6805 - accuracy: 0.7064\n",
            "Epoch 68/200\n",
            "43/43 - 0s - loss: 0.6720 - accuracy: 0.7174\n",
            "Epoch 69/200\n",
            "43/43 - 0s - loss: 0.6723 - accuracy: 0.7071\n",
            "Epoch 70/200\n",
            "43/43 - 0s - loss: 0.6684 - accuracy: 0.7123\n",
            "Epoch 71/200\n",
            "43/43 - 0s - loss: 0.6358 - accuracy: 0.7263\n",
            "Epoch 72/200\n",
            "43/43 - 0s - loss: 0.6699 - accuracy: 0.7182\n",
            "Epoch 73/200\n",
            "43/43 - 0s - loss: 0.6902 - accuracy: 0.6976\n",
            "Epoch 74/200\n",
            "43/43 - 0s - loss: 0.6180 - accuracy: 0.7388\n",
            "Epoch 75/200\n",
            "43/43 - 0s - loss: 0.6217 - accuracy: 0.7344\n",
            "Epoch 76/200\n",
            "43/43 - 0s - loss: 0.6244 - accuracy: 0.7417\n",
            "Epoch 77/200\n",
            "43/43 - 0s - loss: 0.6054 - accuracy: 0.7351\n",
            "Epoch 78/200\n",
            "43/43 - 0s - loss: 0.5928 - accuracy: 0.7388\n",
            "Epoch 79/200\n",
            "43/43 - 0s - loss: 0.5802 - accuracy: 0.7469\n",
            "Epoch 80/200\n",
            "43/43 - 0s - loss: 0.5824 - accuracy: 0.7454\n",
            "Epoch 81/200\n",
            "43/43 - 0s - loss: 0.5579 - accuracy: 0.7623\n",
            "Epoch 82/200\n",
            "43/43 - 0s - loss: 0.5702 - accuracy: 0.7586\n",
            "Epoch 83/200\n",
            "43/43 - 0s - loss: 0.5816 - accuracy: 0.7380\n",
            "Epoch 84/200\n",
            "43/43 - 0s - loss: 0.5668 - accuracy: 0.7741\n",
            "Epoch 85/200\n",
            "43/43 - 0s - loss: 0.5333 - accuracy: 0.7770\n",
            "Epoch 86/200\n",
            "43/43 - 0s - loss: 0.5338 - accuracy: 0.7667\n",
            "Epoch 87/200\n",
            "43/43 - 0s - loss: 0.5656 - accuracy: 0.7454\n",
            "Epoch 88/200\n",
            "43/43 - 0s - loss: 0.5124 - accuracy: 0.7822\n",
            "Epoch 89/200\n",
            "43/43 - 0s - loss: 0.5003 - accuracy: 0.7881\n",
            "Epoch 90/200\n",
            "43/43 - 0s - loss: 0.4941 - accuracy: 0.7888\n",
            "Epoch 91/200\n",
            "43/43 - 0s - loss: 0.4888 - accuracy: 0.8021\n",
            "Epoch 92/200\n",
            "43/43 - 0s - loss: 0.5151 - accuracy: 0.7645\n",
            "Epoch 93/200\n",
            "43/43 - 0s - loss: 0.5113 - accuracy: 0.7859\n",
            "Epoch 94/200\n",
            "43/43 - 0s - loss: 0.4851 - accuracy: 0.7954\n",
            "Epoch 95/200\n",
            "43/43 - 0s - loss: 0.5029 - accuracy: 0.7851\n",
            "Epoch 96/200\n",
            "43/43 - 0s - loss: 0.4637 - accuracy: 0.7947\n",
            "Epoch 97/200\n",
            "43/43 - 0s - loss: 0.4634 - accuracy: 0.8087\n",
            "Epoch 98/200\n",
            "43/43 - 0s - loss: 0.5160 - accuracy: 0.7881\n",
            "Epoch 99/200\n",
            "43/43 - 0s - loss: 0.4712 - accuracy: 0.8006\n",
            "Epoch 100/200\n",
            "43/43 - 0s - loss: 0.4608 - accuracy: 0.8006\n",
            "Epoch 101/200\n",
            "43/43 - 0s - loss: 0.4589 - accuracy: 0.8013\n",
            "Epoch 102/200\n",
            "43/43 - 0s - loss: 0.4490 - accuracy: 0.8050\n",
            "Epoch 103/200\n",
            "43/43 - 0s - loss: 0.4757 - accuracy: 0.7940\n",
            "Epoch 104/200\n",
            "43/43 - 0s - loss: 0.4124 - accuracy: 0.8234\n",
            "Epoch 105/200\n",
            "43/43 - 0s - loss: 0.3831 - accuracy: 0.8389\n",
            "Epoch 106/200\n",
            "43/43 - 0s - loss: 0.4543 - accuracy: 0.8072\n",
            "Epoch 107/200\n",
            "43/43 - 0s - loss: 0.4328 - accuracy: 0.8102\n",
            "Epoch 108/200\n",
            "43/43 - 0s - loss: 0.4340 - accuracy: 0.8109\n",
            "Epoch 109/200\n",
            "43/43 - 0s - loss: 0.4665 - accuracy: 0.8013\n",
            "Epoch 110/200\n",
            "43/43 - 0s - loss: 0.3862 - accuracy: 0.8337\n",
            "Epoch 111/200\n",
            "43/43 - 0s - loss: 0.3894 - accuracy: 0.8330\n",
            "Epoch 112/200\n",
            "43/43 - 0s - loss: 0.3815 - accuracy: 0.8425\n",
            "Epoch 113/200\n",
            "43/43 - 0s - loss: 0.3848 - accuracy: 0.8337\n",
            "Epoch 114/200\n",
            "43/43 - 0s - loss: 0.3675 - accuracy: 0.8425\n",
            "Epoch 115/200\n",
            "43/43 - 0s - loss: 0.3581 - accuracy: 0.8499\n",
            "Epoch 116/200\n",
            "43/43 - 0s - loss: 0.3792 - accuracy: 0.8550\n",
            "Epoch 117/200\n",
            "43/43 - 0s - loss: 0.4285 - accuracy: 0.8146\n",
            "Epoch 118/200\n",
            "43/43 - 0s - loss: 0.4172 - accuracy: 0.8352\n",
            "Epoch 119/200\n",
            "43/43 - 0s - loss: 0.4298 - accuracy: 0.8182\n",
            "Epoch 120/200\n",
            "43/43 - 0s - loss: 0.4185 - accuracy: 0.8263\n",
            "Epoch 121/200\n",
            "43/43 - 0s - loss: 0.3493 - accuracy: 0.8550\n",
            "Epoch 122/200\n",
            "43/43 - 0s - loss: 0.3092 - accuracy: 0.8727\n",
            "Epoch 123/200\n",
            "43/43 - 0s - loss: 0.2963 - accuracy: 0.8823\n",
            "Epoch 124/200\n",
            "43/43 - 0s - loss: 0.2695 - accuracy: 0.8874\n",
            "Epoch 125/200\n",
            "43/43 - 0s - loss: 0.2901 - accuracy: 0.8786\n",
            "Epoch 126/200\n",
            "43/43 - 0s - loss: 0.3353 - accuracy: 0.8528\n",
            "Epoch 127/200\n",
            "43/43 - 0s - loss: 0.3221 - accuracy: 0.8712\n",
            "Epoch 128/200\n",
            "43/43 - 0s - loss: 0.3177 - accuracy: 0.8639\n",
            "Epoch 129/200\n",
            "43/43 - 0s - loss: 0.2778 - accuracy: 0.8793\n",
            "Epoch 130/200\n",
            "43/43 - 0s - loss: 0.2492 - accuracy: 0.9014\n",
            "Epoch 131/200\n",
            "43/43 - 0s - loss: 0.2380 - accuracy: 0.9007\n",
            "Epoch 132/200\n",
            "43/43 - 0s - loss: 0.2643 - accuracy: 0.8874\n",
            "Epoch 133/200\n",
            "43/43 - 0s - loss: 0.2974 - accuracy: 0.8852\n",
            "Epoch 134/200\n",
            "43/43 - 0s - loss: 0.3046 - accuracy: 0.8734\n",
            "Epoch 135/200\n",
            "43/43 - 0s - loss: 0.3254 - accuracy: 0.8624\n",
            "Epoch 136/200\n",
            "43/43 - 0s - loss: 0.3396 - accuracy: 0.8948\n",
            "Epoch 137/200\n",
            "43/43 - 0s - loss: 0.2338 - accuracy: 0.9073\n",
            "Epoch 138/200\n",
            "43/43 - 0s - loss: 0.2389 - accuracy: 0.9058\n",
            "Epoch 139/200\n",
            "43/43 - 0s - loss: 0.2116 - accuracy: 0.9161\n",
            "Epoch 140/200\n",
            "43/43 - 0s - loss: 0.2024 - accuracy: 0.9198\n",
            "Epoch 141/200\n",
            "43/43 - 0s - loss: 0.2249 - accuracy: 0.9029\n",
            "Epoch 142/200\n",
            "43/43 - 0s - loss: 0.2192 - accuracy: 0.9146\n",
            "Epoch 143/200\n",
            "43/43 - 0s - loss: 0.2923 - accuracy: 0.8852\n",
            "Epoch 144/200\n",
            "43/43 - 0s - loss: 0.2636 - accuracy: 0.8837\n",
            "Epoch 145/200\n",
            "43/43 - 0s - loss: 0.2401 - accuracy: 0.8955\n",
            "Epoch 146/200\n",
            "43/43 - 0s - loss: 0.2759 - accuracy: 0.8874\n",
            "Epoch 147/200\n",
            "43/43 - 0s - loss: 0.1945 - accuracy: 0.9242\n",
            "Epoch 148/200\n",
            "43/43 - 0s - loss: 0.2280 - accuracy: 0.9021\n",
            "Epoch 149/200\n",
            "43/43 - 0s - loss: 0.2591 - accuracy: 0.8962\n",
            "Epoch 150/200\n",
            "43/43 - 0s - loss: 0.4132 - accuracy: 0.8492\n",
            "Epoch 151/200\n",
            "43/43 - 0s - loss: 0.2411 - accuracy: 0.9095\n",
            "Epoch 152/200\n",
            "43/43 - 0s - loss: 0.1833 - accuracy: 0.9235\n",
            "Epoch 153/200\n",
            "43/43 - 0s - loss: 0.1650 - accuracy: 0.9338\n",
            "Epoch 154/200\n",
            "43/43 - 0s - loss: 0.1628 - accuracy: 0.9323\n",
            "Epoch 155/200\n",
            "43/43 - 0s - loss: 0.1470 - accuracy: 0.9360\n",
            "Epoch 156/200\n",
            "43/43 - 0s - loss: 0.1866 - accuracy: 0.9146\n",
            "Epoch 157/200\n",
            "43/43 - 0s - loss: 0.2134 - accuracy: 0.9132\n",
            "Epoch 158/200\n",
            "43/43 - 0s - loss: 0.1916 - accuracy: 0.9139\n",
            "Epoch 159/200\n",
            "43/43 - 0s - loss: 0.1595 - accuracy: 0.9360\n",
            "Epoch 160/200\n",
            "43/43 - 0s - loss: 0.2458 - accuracy: 0.9058\n",
            "Epoch 161/200\n",
            "43/43 - 0s - loss: 0.2291 - accuracy: 0.9088\n",
            "Epoch 162/200\n",
            "43/43 - 0s - loss: 0.1832 - accuracy: 0.9286\n",
            "Epoch 163/200\n",
            "43/43 - 0s - loss: 0.3240 - accuracy: 0.9007\n",
            "Epoch 164/200\n",
            "43/43 - 0s - loss: 0.2162 - accuracy: 0.9161\n",
            "Epoch 165/200\n",
            "43/43 - 0s - loss: 0.1981 - accuracy: 0.9235\n",
            "Epoch 166/200\n",
            "43/43 - 0s - loss: 0.1484 - accuracy: 0.9433\n",
            "Epoch 167/200\n",
            "43/43 - 0s - loss: 0.1434 - accuracy: 0.9448\n",
            "Epoch 168/200\n",
            "43/43 - 0s - loss: 0.1446 - accuracy: 0.9404\n",
            "Epoch 169/200\n",
            "43/43 - 0s - loss: 0.1502 - accuracy: 0.9426\n",
            "Epoch 170/200\n",
            "43/43 - 0s - loss: 0.1121 - accuracy: 0.9500\n",
            "Epoch 171/200\n",
            "43/43 - 0s - loss: 0.1643 - accuracy: 0.9330\n",
            "Epoch 172/200\n",
            "43/43 - 0s - loss: 0.2126 - accuracy: 0.9176\n",
            "Epoch 173/200\n",
            "43/43 - 0s - loss: 0.2295 - accuracy: 0.9176\n",
            "Epoch 174/200\n",
            "43/43 - 0s - loss: 0.2162 - accuracy: 0.9065\n",
            "Epoch 175/200\n",
            "43/43 - 0s - loss: 0.2923 - accuracy: 0.9007\n",
            "Epoch 176/200\n",
            "43/43 - 0s - loss: 0.2619 - accuracy: 0.8955\n",
            "Epoch 177/200\n",
            "43/43 - 0s - loss: 0.1448 - accuracy: 0.9448\n",
            "Epoch 178/200\n",
            "43/43 - 0s - loss: 0.1080 - accuracy: 0.9595\n",
            "Epoch 179/200\n",
            "43/43 - 0s - loss: 0.1005 - accuracy: 0.9573\n",
            "Epoch 180/200\n",
            "43/43 - 0s - loss: 0.0927 - accuracy: 0.9603\n",
            "Epoch 181/200\n",
            "43/43 - 0s - loss: 0.1001 - accuracy: 0.9581\n",
            "Epoch 182/200\n",
            "43/43 - 0s - loss: 0.1069 - accuracy: 0.9588\n",
            "Epoch 183/200\n",
            "43/43 - 0s - loss: 0.1215 - accuracy: 0.9492\n",
            "Epoch 184/200\n",
            "43/43 - 0s - loss: 0.1652 - accuracy: 0.9352\n",
            "Epoch 185/200\n",
            "43/43 - 0s - loss: 0.1490 - accuracy: 0.9433\n",
            "Epoch 186/200\n",
            "43/43 - 0s - loss: 0.1225 - accuracy: 0.9463\n",
            "Epoch 187/200\n",
            "43/43 - 0s - loss: 0.2041 - accuracy: 0.9169\n",
            "Epoch 188/200\n",
            "43/43 - 0s - loss: 0.3379 - accuracy: 0.8970\n",
            "Epoch 189/200\n",
            "43/43 - 0s - loss: 0.1758 - accuracy: 0.9257\n",
            "Epoch 190/200\n",
            "43/43 - 0s - loss: 0.1244 - accuracy: 0.9522\n",
            "Epoch 191/200\n",
            "43/43 - 0s - loss: 0.1683 - accuracy: 0.9375\n",
            "Epoch 192/200\n",
            "43/43 - 0s - loss: 0.1822 - accuracy: 0.9433\n",
            "Epoch 193/200\n",
            "43/43 - 0s - loss: 0.1420 - accuracy: 0.9478\n",
            "Epoch 194/200\n",
            "43/43 - 0s - loss: 0.1085 - accuracy: 0.9647\n",
            "Epoch 195/200\n",
            "43/43 - 0s - loss: 0.0759 - accuracy: 0.9720\n",
            "Epoch 196/200\n",
            "43/43 - 0s - loss: 0.0712 - accuracy: 0.9779\n",
            "Epoch 197/200\n",
            "43/43 - 0s - loss: 0.0673 - accuracy: 0.9772\n",
            "Epoch 198/200\n",
            "43/43 - 0s - loss: 0.0746 - accuracy: 0.9691\n",
            "Epoch 199/200\n",
            "43/43 - 0s - loss: 0.1202 - accuracy: 0.9492\n",
            "Epoch 200/200\n",
            "43/43 - 0s - loss: 0.1150 - accuracy: 0.9566\n"
          ],
          "name": "stdout"
        },
        {
          "output_type": "execute_result",
          "data": {
            "text/plain": [
              "<keras.callbacks.History at 0x7f43ee0bf450>"
            ]
          },
          "metadata": {
            "tags": []
          },
          "execution_count": 37
        }
      ]
    },
    {
      "cell_type": "code",
      "metadata": {
        "id": "RES1PSUP9I02",
        "colab": {
          "base_uri": "https://localhost:8080/"
        },
        "outputId": "8e9b5349-851d-4dbe-9ee6-ece8a9a7b840"
      },
      "source": [
        "# Quantify model\n",
        "model_loss, model_accuracy = model.evaluate(\n",
        "    X_test_scaled, y_test_categorical, verbose=2)\n",
        "print(\n",
        "    f\"Normal Neural Network - Loss: {model_loss}, Accuracy: {model_accuracy*100}%\")"
      ],
      "execution_count": null,
      "outputs": [
        {
          "output_type": "stream",
          "text": [
            "8/8 - 0s - loss: 3.5017 - accuracy: 0.6500\n",
            "Normal Neural Network - Loss: 3.501667022705078, Accuracy: 64.99999761581421%\n"
          ],
          "name": "stdout"
        }
      ]
    },
    {
      "cell_type": "markdown",
      "metadata": {
        "id": "4_iL5VY31FF1"
      },
      "source": [
        "# Charts"
      ]
    },
    {
      "cell_type": "code",
      "metadata": {
        "id": "HoY2NpyZyG9c",
        "colab": {
          "base_uri": "https://localhost:8080/",
          "height": 716
        },
        "outputId": "51ff3152-4b40-457d-f356-8de23103037c"
      },
      "source": [
        "wine.hist(figsize=(17,12),color='Red')\n",
        "plt.show()"
      ],
      "execution_count": null,
      "outputs": [
        {
          "output_type": "display_data",
          "data": {
            "image/png": "[encoded data removed]",
            "text/plain": [
              "<Figure size 1224x864 with 12 Axes>"
            ]
          },
          "metadata": {
            "tags": [],
            "needs_background": "light"
          }
        }
      ]
    },
    {
      "cell_type": "code",
      "metadata": {
        "id": "OfcCcpaU6OSq",
        "colab": {
          "base_uri": "https://localhost:8080/",
          "height": 264
        },
        "outputId": "5405fa9d-654e-494a-8c7c-4061bb4ee902"
      },
      "source": [
        "explode = (0.05, 0.05, 0.05, 0.05, .05, .05)\n",
        "pie_chart_data = wine.groupby('quality')['quality'].sum().plot(kind = \"pie\", autopct=\"%1.0f%%\", explode=explode, shadow=True, startangle=140)\n",
        "pie_chart_data\n",
        "plt.title(\"Wine Quality\")\n",
        "\n",
        "# Save the figure\n",
        "plt.savefig(\"Pie Chart is for  average votes as per Genre.png\")\n",
        "plt.show()"
      ],
      "execution_count": null,
      "outputs": [
        {
          "output_type": "display_data",
          "data": {
            "image/png": "[encoded data removed]",
            "text/plain": [
              "<Figure size 432x288 with 1 Axes>"
            ]
          },
          "metadata": {
            "tags": []
          }
        }
      ]
    },
    {
      "cell_type": "code",
      "metadata": {
        "id": "I0y9ikGJ7tvM",
        "colab": {
          "base_uri": "https://localhost:8080/",
          "height": 1000
        },
        "outputId": "381e253e-3fee-4c15-d2c6-45bf5b10e148"
      },
      "source": [
        "corr = wine[wine.columns].corr()\n",
        "plt.figure(figsize=(15, 15))\n",
        "sns.set(font_scale=1.3)\n",
        "sns.heatmap(corr, cmap=\"seismic\", annot = True, vmin=0, vmax=0)\n",
        "plt.title('Heatmap for Correlation of Parameters', fontdict={'fontsize':30}, pad=12)\n",
        "plt.show()"
      ],
      "execution_count": null,
      "outputs": [
        {
          "output_type": "display_data",
          "data": {
            "image/png": "[encoded data removed]",
            "text/plain": [
              "<Figure size 1080x1080 with 2 Axes>"
            ]
          },
          "metadata": {}
        }
      ]
    },
    {
      "cell_type": "code",
      "metadata": {
        "id": "4RBNPJS87ne9"
      },
      "source": [
        ""
      ],
      "execution_count": null,
      "outputs": []
    }
  ]
}